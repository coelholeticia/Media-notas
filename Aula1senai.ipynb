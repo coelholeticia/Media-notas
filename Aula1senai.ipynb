{
  "nbformat": 4,
  "nbformat_minor": 0,
  "metadata": {
    "colab": {
      "provenance": [],
      "collapsed_sections": [],
      "authorship_tag": "ABX9TyOQcmPrFia7+C9YZUU92JfH",
      "include_colab_link": true
    },
    "kernelspec": {
      "name": "python3",
      "display_name": "Python 3"
    },
    "language_info": {
      "name": "python"
    }
  },
  "cells": [
    {
      "cell_type": "markdown",
      "metadata": {
        "id": "view-in-github",
        "colab_type": "text"
      },
      "source": [
        "<a href=\"https://colab.research.google.com/github/coelholeticia/Media-notas/blob/main/Aula1senai.ipynb\" target=\"_parent\"><img src=\"https://colab.research.google.com/assets/colab-badge.svg\" alt=\"Open In Colab\"/></a>"
      ]
    },
    {
      "cell_type": "markdown",
      "source": [
        "# Desafio notas "
      ],
      "metadata": {
        "id": "eA5WVE5ziXbR"
      }
    },
    {
      "cell_type": "markdown",
      "source": [
        " criar 4 variáveis que armazenem as notas do Enem de um aluno; essas variáveis podem receber valores de zero a cem (0 a 100). As notas são:\n",
        "\n",
        "› Nota de Ciências da Natureza;\n",
        "› Nota de Ciências Humanas;\n",
        "› Nota de Matemática;\n",
        "› Nota de Redação.\n",
        "\n",
        "A partir dessas 4 notas, você deve gerar a média desse aluno e apresentar na tela.\n",
        "Siga aprimorando seus conhecimentos e garanta um mundo de oportunidades! Vamos lá!"
      ],
      "metadata": {
        "id": "HUYQNcNCm6ex"
      }
    },
    {
      "cell_type": "code",
      "source": [
        "nota_ciencia_nat = (float(input(\"Digite sua nota em Ciência da Natureza: \")))\n",
        "nota_ciencia_hum = (float(input(\"Digite sua nota em Ciência Humanas: \")))\n",
        "nota_Matem =  (float(input(\"Digite sua nota em Matemática: \")))\n",
        "nota_Redacao = (float(input(\"Digite sua nota em Redacao: \")))\n",
        "media = (nota_ciencia_nat + nota_ciencia_hum + nota_Matem + nota_Redacao) / 4 \n",
        "print('A sua media é: media {:.2f}'.format(media))"
      ],
      "metadata": {
        "colab": {
          "base_uri": "https://localhost:8080/"
        },
        "id": "L5ch-F6CilZ0",
        "outputId": "927cb442-ca20-4ff3-d010-369d4752e474"
      },
      "execution_count": 4,
      "outputs": [
        {
          "output_type": "stream",
          "name": "stdout",
          "text": [
            "Digite sua nota em Ciência da Natureza: 8.5\n",
            "Digite sua nota em Ciência Humanas: 7.8\n",
            "Digite sua nota em Matemática: 4.5\n",
            "Digite sua nota em Redacao: 6.0\n",
            "A sua media é: media 6.70\n"
          ]
        }
      ]
    }
  ]
}